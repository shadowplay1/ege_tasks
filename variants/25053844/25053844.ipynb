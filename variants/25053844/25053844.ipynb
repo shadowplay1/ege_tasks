{
 "cells": [
  {
   "cell_type": "code",
   "execution_count": null,
   "metadata": {},
   "outputs": [],
   "source": [
    "from itertools import *\n",
    "c=0\n",
    "for i in product('0123456',repeat=7):\n",
    "    i=''.join(i)\n",
    "    if i[0]!='0':\n",
    "        print(i)\n",
    "        i=i.replace('0','*').replace('2','*').replace('4','*').replace('6','*').replace('8','*')\n",
    "        if i.count('*')==2:\n",
    "            c+=1\n",
    "print(c)"
   ]
  },
  {
   "cell_type": "code",
   "execution_count": null,
   "metadata": {},
   "outputs": [],
   "source": [
    "max_sum=0\n",
    "for n in range(3,10_001):\n",
    "    s='8'+'4'*n\n",
    "    while '11' in s or '444' in s or '8888' in s:\n",
    "        if '11' in s:\n",
    "            s=s.replace('11','4',1)\n",
    "        if '444' in s:\n",
    "            s=s.replace('444','88',1)\n",
    "        if '8888' in s:\n",
    "            s=s.replace('8888','1',1)\n",
    "    if sum(int(x) for x in s)>max_sum:\n",
    "        max_sum= sum(int(x) for x in s)\n",
    "print(max_sum)"
   ]
  },
  {
   "cell_type": "code",
   "execution_count": null,
   "metadata": {},
   "outputs": [],
   "source": [
    "from ipaddress import *\n",
    "net = ip_network('112.208.0.0/255.255.128.0')\n",
    "c=0\n",
    "for i in net:\n",
    "    if f'{i:b}'.count('1')%11==0:\n",
    "        c+=1\n",
    "print(c)"
   ]
  },
  {
   "cell_type": "code",
   "execution_count": null,
   "metadata": {},
   "outputs": [],
   "source": [
    "s=4*3125**2019+3*625**2020-2*125**2021 + 25**2022 - 4*5**2023 - 2024\n",
    "c=0\n",
    "while s>0:\n",
    "    if (s%25)>10:\n",
    "        c+=1\n",
    "    s//=25\n",
    "print(c)\n"
   ]
  },
  {
   "cell_type": "code",
   "execution_count": null,
   "metadata": {},
   "outputs": [],
   "source": [
    "def del_(n,m):\n",
    "    return n%m==0\n",
    "def f(x,A):\n",
    "    return del_(x,A) or (not(del_(x,28)) or not(del_(x,49)))\n",
    "for A in range(1,10000):\n",
    "    if all(f(x,A) for x in range(1,10000)) ==1:\n",
    "        print(A)"
   ]
  },
  {
   "cell_type": "code",
   "execution_count": null,
   "metadata": {},
   "outputs": [],
   "source": [
    "def f(n):\n",
    "    if n<=3:\n",
    "        return 2025\n",
    "    return 3*(n-1)*f(n-2)\n",
    "print(f(2027)//f(2023))"
   ]
  },
  {
   "cell_type": "code",
   "execution_count": null,
   "metadata": {},
   "outputs": [],
   "source": [
    "def f(k1,m):\n",
    "    if k1>434:return m%2==0\n",
    "    if m==0:return 0\n",
    "    h=[f(k1+5,m-1),f(k1*3,m-1)]\n",
    "    # return any(h) if (m-1)%2==0 else all(h) 19\n",
    "    # return any(h) if (m-1)%2==0 else all(h) 20\n",
    "    # return any(h) if (m-1)%2==0 else all(h) 21\n",
    "print([s for s in range(1,435) if  not f(s,2) and f(s,3)])"
   ]
  },
  {
   "cell_type": "code",
   "execution_count": null,
   "metadata": {},
   "outputs": [],
   "source": [
    "def f(x,y):\n",
    "    if x==y:return 1\n",
    "    if x>y or x==16:return 0\n",
    "    return f(x+1,y)+f(x+2,y)+f(x*3,y)\n",
    "print(f(2,9)*f(9,18))"
   ]
  },
  {
   "cell_type": "code",
   "execution_count": null,
   "metadata": {},
   "outputs": [],
   "source": [
    "from fnmatch import fnmatch\n",
    "for i in range(0,10**10,98591):\n",
    "    if fnmatch(str(i),'5?2*3?3?') and i%98591==0:\n",
    "        print(i,i//98591)\n"
   ]
  }
 ],
 "metadata": {
  "kernelspec": {
   "display_name": "Python 3",
   "language": "python",
   "name": "python3"
  },
  "language_info": {
   "codemirror_mode": {
    "name": "ipython",
    "version": 3
   },
   "file_extension": ".py",
   "mimetype": "text/x-python",
   "name": "python",
   "nbconvert_exporter": "python",
   "pygments_lexer": "ipython3",
   "version": "3.11.4"
  },
  "orig_nbformat": 4
 },
 "nbformat": 4,
 "nbformat_minor": 2
}
