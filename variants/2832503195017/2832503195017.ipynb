{
 "cells": [
  {
   "cell_type": "code",
   "execution_count": 5,
   "metadata": {},
   "outputs": [
    {
     "name": "stdout",
     "output_type": "stream",
     "text": [
      "0 0 0 1\n",
      "0 0 1 1\n",
      "0 1 0 1\n",
      "0 1 1 1\n"
     ]
    }
   ],
   "source": [
    "# 2\n",
    "for x in range(0,2):\n",
    "    for y in range(0,2):\n",
    "        for z in range(0,2):\n",
    "            for w in range(0,2):\n",
    "                if ((not w) and (y or z <= (not x) and y))==1:\n",
    "                    print(w,x,z,y)"
   ]
  },
  {
   "cell_type": "code",
   "execution_count": 19,
   "metadata": {},
   "outputs": [
    {
     "name": "stdout",
     "output_type": "stream",
     "text": [
      "9\n"
     ]
    }
   ],
   "source": [
    "# 5\n",
    "arr=[]\n",
    "for i in range(1000):\n",
    "    bin_i = bin(i)[2:]\n",
    "    if i%5==0:\n",
    "        bin_i +=bin_i[-3:]\n",
    "    else:\n",
    "        bin_i += bin((i%5)*5)[2:]\n",
    "    if int(bin_i,2)>256:\n",
    "        arr.append(i)\n",
    "print(min(arr))"
   ]
  },
  {
   "cell_type": "code",
   "execution_count": 26,
   "metadata": {},
   "outputs": [
    {
     "name": "stdout",
     "output_type": "stream",
     "text": [
      "90\n"
     ]
    }
   ],
   "source": [
    "# 8\n",
    "from itertools import *\n",
    "k=0\n",
    "for i in permutations('игрок',r=5):\n",
    "# for i in combinations('игрок',6):\n",
    "    i=''.join(i)\n",
    "    if i[0] != 'к' and 'рок' not in i:\n",
    "        # print(i)\n",
    "        k+=1\n",
    "print(k)"
   ]
  },
  {
   "cell_type": "code",
   "execution_count": 34,
   "metadata": {},
   "outputs": [
    {
     "name": "stdout",
     "output_type": "stream",
     "text": [
      "3\n"
     ]
    }
   ],
   "source": [
    "# 9\n",
    "f=open('txt/9.txt').readlines()\n",
    "arr=[list(map(int,x.split()))for x in f]\n",
    "k=0\n",
    "for i in range(len(arr)):\n",
    "    arr[i] = sorted(arr[i])\n",
    "    if ((len(arr[i])-1 == len(set(arr[i])))) and ((5*(arr[i][0] + arr[i][5])) >= 4*sum(arr[i][1:5])):\n",
    "        k+=1 \n",
    "print(k)"
   ]
  },
  {
   "cell_type": "code",
   "execution_count": 7,
   "metadata": {},
   "outputs": [
    {
     "name": "stdout",
     "output_type": "stream",
     "text": [
      "12\n",
      "12\n"
     ]
    }
   ],
   "source": [
    "# 14\n",
    "def to_base(n, base):\n",
    "    res= \"\"\n",
    "    while n > 0:\n",
    "        res = str(n % base) + res\n",
    "        n //= base\n",
    "    return res\n",
    "\n",
    "number = 12  \n",
    "while True:\n",
    "    if to_base(number, 4)[-1] == '0' and to_base(number, 6)[-1] == '0':\n",
    "        print(number)\n",
    "        break\n",
    "    number += 12  \n",
    "print(number)\n"
   ]
  },
  {
   "cell_type": "code",
   "execution_count": 13,
   "metadata": {},
   "outputs": [
    {
     "name": "stdout",
     "output_type": "stream",
     "text": [
      "497 4\n"
     ]
    }
   ],
   "source": [
    "# # 17\n",
    "f = open('txt/17.txt').readlines()\n",
    "arr = [int(x) for x in f]\n",
    "\n",
    "def s(a,b):\n",
    "    if str(a)[-1] =='7' or str(b)[-1] =='7':\n",
    "        return True\n",
    "    return False\n",
    "\n",
    "ans_1 = 0\n",
    "ans_2 = []\n",
    "\n",
    "for i in range(len(arr)-1):\n",
    "    if s(arr[i], arr[i+1]):\n",
    "        if (arr[i] - arr[i+1])**2 < abs(arr[i]**2 - arr[i+1]**2):\n",
    "            ans_1 += 1\n",
    "            ans_2.append((arr[i] - arr[i+1])**2)\n",
    "\n",
    "\n",
    "print(ans_1, min(ans_2))\n",
    "\n"
   ]
  },
  {
   "cell_type": "code",
   "execution_count": 37,
   "metadata": {},
   "outputs": [
    {
     "name": "stdout",
     "output_type": "stream",
     "text": [
      "[]\n",
      "[47, 53]\n",
      "[48, 54]\n"
     ]
    }
   ],
   "source": [
    "def f(k1,k2,m):\n",
    "    if (k1+k2)>=123:return m%2==0\n",
    "    if m==0:return 0\n",
    "    h = [f(k1+1,k2,m-1),f(k1,k2+1,m-1),f(k1*2,k2,m-1),f(k1,k2*2,m-1)]\n",
    "    return any(h) if (m-1)%2==0 else all(h)\n",
    "print([s for s in range(1,110) if f(13,s,2)])\n",
    "print([s for s in range(1,110) if not f(13,s,2) and f(13,s,4)])\n",
    "print([s for s in range(1,110) if not f(13,s,1) and f(13,s,3)])"
   ]
  },
  {
   "cell_type": "code",
   "execution_count": null,
   "metadata": {},
   "outputs": [],
   "source": [
    "# 25\n",
    "from fnmatch import fnmatch\n",
    "for i in range(1,10**7):\n",
    "    if fnmatch(str(i),'22?0*5?') and i%111==0:\n",
    "        print(i,i//111)"
   ]
  }
 ],
 "metadata": {
  "kernelspec": {
   "display_name": "Python 3",
   "language": "python",
   "name": "python3"
  },
  "language_info": {
   "codemirror_mode": {
    "name": "ipython",
    "version": 3
   },
   "file_extension": ".py",
   "mimetype": "text/x-python",
   "name": "python",
   "nbconvert_exporter": "python",
   "pygments_lexer": "ipython3",
   "version": "3.11.4"
  },
  "orig_nbformat": 4
 },
 "nbformat": 4,
 "nbformat_minor": 2
}
