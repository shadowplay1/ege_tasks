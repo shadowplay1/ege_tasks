{
 "cells": [
  {
   "cell_type": "code",
   "execution_count": 5,
   "metadata": {},
   "outputs": [
    {
     "name": "stdout",
     "output_type": "stream",
     "text": [
      "6\n"
     ]
    }
   ],
   "source": [
    "from ipaddress import *\n",
    "net = ip_network('129.128.0.0/255.128.0.0',0)\n",
    "min_=100\n",
    "for i in net:\n",
    "    # print(i)\n",
    "    # !!!\n",
    "    a= f'{i:b}' \n",
    "    # !!!\n",
    "    if a.count('0') < min_:\n",
    "        min_ = a.count('0')\n",
    "print(min_)\n",
    "# 11782 "
   ]
  },
  {
   "cell_type": "code",
   "execution_count": 7,
   "metadata": {},
   "outputs": [
    {
     "name": "stdout",
     "output_type": "stream",
     "text": [
      "2\n"
     ]
    }
   ],
   "source": [
    "# 11773 \n",
    "from ipaddress import *\n",
    "net = ip_network('87.226.26.72/255.255.255.252')\n",
    "c=0\n",
    "for i in net:\n",
    "    if f'{i:b}'.count('0')%2==0:\n",
    "        c+=1\n",
    "print(c)"
   ]
  },
  {
   "cell_type": "code",
   "execution_count": 14,
   "metadata": {},
   "outputs": [
    {
     "name": "stdout",
     "output_type": "stream",
     "text": [
      "01111001\n",
      "10011100\n",
      "100000\n",
      "11111111\n"
     ]
    },
    {
     "data": {
      "text/plain": [
       "25"
      ]
     },
     "execution_count": 14,
     "metadata": {},
     "output_type": "execute_result"
    }
   ],
   "source": [
    "# 10786 \n",
    "# 151.172.115.121\n",
    "# 151.172.115.156\n",
    "# 255.255.255.X\n",
    "print('0'+bin(121)[2:])\n",
    "print(bin(156)[2:])\n",
    "print(bin(32)[2:])\n",
    "print(bin(255)[2:])\n",
    "8*3+1\n"
   ]
  },
  {
   "cell_type": "code",
   "execution_count": 30,
   "metadata": {},
   "outputs": [
    {
     "name": "stdout",
     "output_type": "stream",
     "text": [
      "01000110\n",
      "01101011\n",
      "100\n",
      "11111111.11111111.11111111.10000000\n"
     ]
    },
    {
     "data": {
      "text/plain": [
       "64"
      ]
     },
     "execution_count": 30,
     "metadata": {},
     "output_type": "execute_result"
    }
   ],
   "source": [
    "# 10783 \n",
    "# 121.171.5.70\n",
    "# 121.171.5.107\n",
    "# 255.255.255.X\n",
    "print('0'+bin(70)[2:])\n",
    "print('0'+bin(107)[2:])\n",
    "print(bin(4)[2:])\n",
    "# 255.255.255.128\n",
    "print((bin(255)[2:])+'.'+(bin(255)[2:])+'.'+(bin(255)[2:])+'.'+(bin(128)[2:]))\n",
    "64"
   ]
  },
  {
   "cell_type": "code",
   "execution_count": 34,
   "metadata": {},
   "outputs": [
    {
     "name": "stdout",
     "output_type": "stream",
     "text": [
      "01101011\n",
      "01111001\n"
     ]
    },
    {
     "data": {
      "text/plain": [
       "8192"
      ]
     },
     "execution_count": 34,
     "metadata": {},
     "output_type": "execute_result"
    }
   ],
   "source": [
    "# 10781 \n",
    "from ipaddress import *\n",
    "# 112.117.107.70\n",
    "# 112.117.121.80\n",
    "# 255.255.x.x\n",
    "print('0'+bin(107)[2:])\n",
    "print('0'+bin(121)[2:])\n",
    "2**5 * 2**8"
   ]
  },
  {
   "cell_type": "code",
   "execution_count": 39,
   "metadata": {},
   "outputs": [
    {
     "name": "stdout",
     "output_type": "stream",
     "text": [
      "11010000\n",
      "11000000\n",
      "76543210\n",
      "224\n"
     ]
    }
   ],
   "source": [
    "# 10570 \n",
    "# 154.201.208.17\n",
    "# 154.201.192.0\n",
    "# 255.255.x.-\n",
    "print(bin(208)[2:])\n",
    "print(bin(192)[2:])\n",
    "print('76543210')\n",
    "print(2**7+2**6+2**5)"
   ]
  },
  {
   "cell_type": "code",
   "execution_count": 40,
   "metadata": {},
   "outputs": [
    {
     "name": "stdout",
     "output_type": "stream",
     "text": [
      "2048\n"
     ]
    }
   ],
   "source": [
    "# 11763 \n",
    "from ipaddress import *\n",
    "net = ip_network('180.23.32.0/255.255.240.0')\n",
    "c=0\n",
    "for i in net:\n",
    "    if f'{i:b}'.count('1')%2==0:\n",
    "        c+=1\n",
    "print(c)\n"
   ]
  },
  {
   "cell_type": "code",
   "execution_count": 56,
   "metadata": {},
   "outputs": [
    {
     "name": "stdout",
     "output_type": "stream",
     "text": [
      "128\n",
      "64\n",
      "32\n",
      "16\n",
      "8\n"
     ]
    }
   ],
   "source": [
    "# 11771 \n",
    "from ipaddress import *\n",
    "net= ip_address('121.74.179.128')\n",
    "ip=ip_address('121.74.179.135')\n",
    "for i in range(33):\n",
    "    temp = ip_network(f'{ip}/{i}',0)\n",
    "    if net==temp.network_address:\n",
    "        print(temp.num_addresses)"
   ]
  },
  {
   "cell_type": "code",
   "execution_count": null,
   "metadata": {},
   "outputs": [],
   "source": [
    "# 14648 \n",
    "# 218.48.192.56\n",
    "# 218.48.192.0\n"
   ]
  },
  {
   "cell_type": "code",
   "execution_count": 73,
   "metadata": {},
   "outputs": [
    {
     "name": "stdout",
     "output_type": "stream",
     "text": [
      "251\n",
      "250\n",
      "249\n",
      "248\n",
      "247\n",
      "246\n",
      "245\n",
      "244\n",
      "243\n",
      "242\n",
      "241\n",
      "240\n",
      "239\n",
      "238\n",
      "237\n",
      "236\n",
      "235\n",
      "234\n",
      "233\n",
      "232\n",
      "231\n",
      "230\n",
      "229\n",
      "228\n",
      "223\n",
      "222\n",
      "221\n",
      "220\n",
      "219\n",
      "218\n",
      "217\n",
      "216\n",
      "215\n",
      "214\n",
      "213\n",
      "212\n",
      "207\n",
      "206\n",
      "205\n",
      "204\n",
      "191\n",
      "190\n",
      "189\n",
      "188\n",
      "187\n",
      "186\n",
      "185\n",
      "184\n",
      "183\n",
      "182\n",
      "181\n",
      "180\n",
      "175\n",
      "174\n",
      "173\n",
      "172\n",
      "159\n",
      "158\n",
      "157\n",
      "156\n",
      "127\n",
      "126\n",
      "125\n",
      "124\n",
      "123\n",
      "122\n",
      "121\n",
      "120\n",
      "119\n",
      "118\n",
      "117\n",
      "116\n",
      "111\n",
      "110\n",
      "109\n",
      "108\n",
      "95\n",
      "94\n",
      "93\n",
      "92\n",
      "63\n",
      "62\n",
      "61\n",
      "60\n"
     ]
    }
   ],
   "source": [
    "# 12467 \n",
    "from ipaddress import *\n",
    "c=0\n",
    "for A in range(251,1,-1):\n",
    "    temp = ip_network(f'183.192.{A}.0/255.255.252.0',0)\n",
    "        # !!!\n",
    "    if all(f'{i:b}'[16:].count('1')>3 for i in temp):\n",
    "        # !!!\n",
    "        print(A)"
   ]
  }
 ],
 "metadata": {
  "kernelspec": {
   "display_name": "Python 3",
   "language": "python",
   "name": "python3"
  },
  "language_info": {
   "codemirror_mode": {
    "name": "ipython",
    "version": 3
   },
   "file_extension": ".py",
   "mimetype": "text/x-python",
   "name": "python",
   "nbconvert_exporter": "python",
   "pygments_lexer": "ipython3",
   "version": "3.12.1"
  },
  "orig_nbformat": 4
 },
 "nbformat": 4,
 "nbformat_minor": 2
}
