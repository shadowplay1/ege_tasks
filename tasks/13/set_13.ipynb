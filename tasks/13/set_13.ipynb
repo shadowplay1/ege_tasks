{
 "cells": [
  {
   "cell_type": "code",
   "execution_count": null,
   "metadata": {},
   "outputs": [],
   "source": [
    "from ipaddress import *\n",
    "net = ip_network('129.128.0.0/255.128.0.0',0)\n",
    "min_=100\n",
    "for i in net:\n",
    "    # print(i)\n",
    "    # !!!\n",
    "    a= f'{i:b}' \n",
    "    # !!!\n",
    "    if a.count('0') < min_:\n",
    "        min_ = a.count('0')\n",
    "print(min_)\n",
    "# 11782 "
   ]
  },
  {
   "cell_type": "code",
   "execution_count": null,
   "metadata": {},
   "outputs": [],
   "source": [
    "# 11773 \n",
    "from ipaddress import *\n",
    "net = ip_network('87.226.26.72/255.255.255.252')\n",
    "c=0\n",
    "for i in net:\n",
    "    if f'{i:b}'.count('0')%2==0:\n",
    "        c+=1\n",
    "print(c)"
   ]
  },
  {
   "cell_type": "code",
   "execution_count": null,
   "metadata": {},
   "outputs": [],
   "source": [
    "# 10786 \n",
    "# 151.172.115.121\n",
    "# 151.172.115.156\n",
    "# 255.255.255.X\n",
    "print('0'+bin(121)[2:])\n",
    "print(bin(156)[2:])\n",
    "print(bin(32)[2:])\n",
    "print(bin(255)[2:])\n",
    "8*3+1\n"
   ]
  },
  {
   "cell_type": "code",
   "execution_count": null,
   "metadata": {},
   "outputs": [],
   "source": [
    "# 10783 \n",
    "# 121.171.5.70\n",
    "# 121.171.5.107\n",
    "# 255.255.255.X\n",
    "print('0'+bin(70)[2:])\n",
    "print('0'+bin(107)[2:])\n",
    "print(bin(4)[2:])\n",
    "# 255.255.255.128\n",
    "print((bin(255)[2:])+'.'+(bin(255)[2:])+'.'+(bin(255)[2:])+'.'+(bin(128)[2:]))\n",
    "64"
   ]
  },
  {
   "cell_type": "code",
   "execution_count": null,
   "metadata": {},
   "outputs": [],
   "source": [
    "# 10781 \n",
    "from ipaddress import *\n",
    "# 112.117.107.70\n",
    "# 112.117.121.80\n",
    "# 255.255.x.x\n",
    "print('0'+bin(107)[2:])\n",
    "print('0'+bin(121)[2:])\n",
    "2**5 * 2**8"
   ]
  },
  {
   "cell_type": "code",
   "execution_count": null,
   "metadata": {},
   "outputs": [],
   "source": [
    "# 10570 \n",
    "# 154.201.208.17\n",
    "# 154.201.192.0\n",
    "# 255.255.x.-\n",
    "print(bin(208)[2:])\n",
    "print(bin(192)[2:])\n",
    "print('76543210')\n",
    "print(2**7+2**6+2**5)"
   ]
  },
  {
   "cell_type": "code",
   "execution_count": null,
   "metadata": {},
   "outputs": [],
   "source": [
    "# 11763 \n",
    "from ipaddress import *\n",
    "net = ip_network('180.23.32.0/255.255.240.0')\n",
    "c=0\n",
    "for i in net:\n",
    "    if f'{i:b}'.count('1')%2==0:\n",
    "        c+=1\n",
    "print(c)\n"
   ]
  },
  {
   "cell_type": "code",
   "execution_count": null,
   "metadata": {},
   "outputs": [],
   "source": [
    "# 11771 \n",
    "from ipaddress import *\n",
    "net= ip_address('121.74.179.128')\n",
    "ip=ip_address('121.74.179.135')\n",
    "for i in range(33):\n",
    "    temp = ip_network(f'{ip}/{i}',0)\n",
    "    if net==temp.network_address:\n",
    "        print(temp.num_addresses)"
   ]
  },
  {
   "cell_type": "code",
   "execution_count": null,
   "metadata": {},
   "outputs": [],
   "source": [
    "# 14648 \n",
    "# 218.48.192.56\n",
    "# 218.48.192.0\n"
   ]
  },
  {
   "cell_type": "code",
   "execution_count": null,
   "metadata": {},
   "outputs": [],
   "source": [
    "# 12467 \n",
    "from ipaddress import *\n",
    "c=0\n",
    "for A in range(251,1,-1):\n",
    "    temp = ip_network(f'183.192.{A}.0/255.255.252.0',0)\n",
    "        # !!!\n",
    "    if all(f'{i:b}'[16:].count('1')>3 for i in temp):\n",
    "        # !!!\n",
    "        print(A)"
   ]
  }
 ],
 "metadata": {
  "kernelspec": {
   "display_name": "Python 3",
   "language": "python",
   "name": "python3"
  },
  "language_info": {
   "codemirror_mode": {
    "name": "ipython",
    "version": 3
   },
   "file_extension": ".py",
   "mimetype": "text/x-python",
   "name": "python",
   "nbconvert_exporter": "python",
   "pygments_lexer": "ipython3",
   "version": "3.12.1"
  },
  "orig_nbformat": 4
 },
 "nbformat": 4,
 "nbformat_minor": 2
}
